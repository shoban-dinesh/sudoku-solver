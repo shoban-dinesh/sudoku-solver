{
 "cells": [
  {
   "cell_type": "code",
   "execution_count": 83,
   "id": "bb724600-7998-4821-aadf-d9a0428bc606",
   "metadata": {},
   "outputs": [],
   "source": [
    "# import libraries\n",
    "import os \n",
    "import shutil\n",
    "import random\n",
    "import pandas as pd\n",
    "import cv2\n",
    "import yaml\n",
    "import numpy as np\n",
    "import matplotlib.pyplot as plt"
   ]
  },
  {
   "cell_type": "code",
   "execution_count": 30,
   "id": "0b210634-3a14-42b5-8525-cc6fb7e19b58",
   "metadata": {},
   "outputs": [],
   "source": [
    "data_dir = '../data'"
   ]
  },
  {
   "cell_type": "code",
   "execution_count": 31,
   "id": "0c6b22b4-0b7c-42b0-bfac-9409e5515972",
   "metadata": {},
   "outputs": [],
   "source": [
    "raw_data_dir = os.path.join(data_dir, 'raw')\n",
    "processed_data_dir = os.path.join(data_dir, 'processed')"
   ]
  },
  {
   "cell_type": "code",
   "execution_count": 32,
   "id": "0b9c3194-617f-4c14-855b-236458557b29",
   "metadata": {},
   "outputs": [],
   "source": [
    "os.makedirs(raw_data_dir, exist_ok=True)\n",
    "os.makedirs(processed_data_dir, exist_ok=True)"
   ]
  },
  {
   "cell_type": "code",
   "execution_count": 33,
   "id": "62da38f0-aa27-4ebc-b2e2-378bd8af45be",
   "metadata": {},
   "outputs": [],
   "source": [
    "sudoku_dataset_dir = os.path.join(raw_data_dir, 'sudoku_dataset')\n",
    "# ! git clone https://github.com/wichtounet/sudoku_dataset.git ../data/raw/sudoku_dataset"
   ]
  },
  {
   "cell_type": "code",
   "execution_count": 34,
   "id": "74c187b7-e05d-4401-bdb8-367df8174418",
   "metadata": {},
   "outputs": [],
   "source": [
    "sudoku_ocr_dataset_dir = os.path.join(processed_data_dir, 'sudoku_ocr_dataset')\n",
    "os.makedirs(sudoku_ocr_dataset_dir, exist_ok=True)"
   ]
  },
  {
   "cell_type": "code",
   "execution_count": 44,
   "id": "3bf2a6de-2696-43a9-bc6c-927511bd5527",
   "metadata": {},
   "outputs": [],
   "source": [
    "localization_dataset_dir = os.path.join(processed_data_dir, 'localization_dataset')\n",
    "os.makedirs(localization_dataset_dir, exist_ok=True)"
   ]
  },
  {
   "cell_type": "code",
   "execution_count": 51,
   "id": "0ab381eb-e326-49b0-8b66-2c9c635d3c12",
   "metadata": {},
   "outputs": [],
   "source": [
    "localization_image_dir = os.path.join(localization_dataset_dir, 'images')\n",
    "localization_label_dir = os.path.join(localization_dataset_dir, 'labels')\n",
    "\n",
    "os.makedirs(localization_image_dir, exist_ok=True)\n",
    "os.makedirs(localization_label_dir, exist_ok=True)"
   ]
  },
  {
   "cell_type": "code",
   "execution_count": 35,
   "id": "8f53d5af-4d70-4c89-8c42-693fe705e813",
   "metadata": {},
   "outputs": [
    {
     "data": {
      "text/plain": [
       "['.git',\n",
       " '.gitignore',\n",
       " 'baptiste.sh',\n",
       " 'datasets',\n",
       " 'images',\n",
       " 'jean.sh',\n",
       " 'mixed',\n",
       " 'mixed_incomplete',\n",
       " 'mixed_natural',\n",
       " 'original',\n",
       " 'outlines_sorted.csv',\n",
       " 'README.rst',\n",
       " 'tools',\n",
       " 'wip']"
      ]
     },
     "execution_count": 35,
     "metadata": {},
     "output_type": "execute_result"
    }
   ],
   "source": [
    "os.listdir(sudoku_dataset_dir)"
   ]
  },
  {
   "cell_type": "code",
   "execution_count": 36,
   "id": "51b0e7db-aaa8-41f6-b76e-110f0adbd91e",
   "metadata": {},
   "outputs": [],
   "source": [
    "image_dir = os.path.join(sudoku_dataset_dir, 'images')"
   ]
  },
  {
   "cell_type": "code",
   "execution_count": 37,
   "id": "678074f5-ea53-4e60-b0a8-d54747804484",
   "metadata": {},
   "outputs": [
    {
     "data": {
      "text/html": [
       "<div>\n",
       "<style scoped>\n",
       "    .dataframe tbody tr th:only-of-type {\n",
       "        vertical-align: middle;\n",
       "    }\n",
       "\n",
       "    .dataframe tbody tr th {\n",
       "        vertical-align: top;\n",
       "    }\n",
       "\n",
       "    .dataframe thead th {\n",
       "        text-align: right;\n",
       "    }\n",
       "</style>\n",
       "<table border=\"1\" class=\"dataframe\">\n",
       "  <thead>\n",
       "    <tr style=\"text-align: right;\">\n",
       "      <th></th>\n",
       "      <th>filepath</th>\n",
       "      <th>p1_x</th>\n",
       "      <th>p1_y</th>\n",
       "      <th>p2_x</th>\n",
       "      <th>p2_y</th>\n",
       "      <th>p3_x</th>\n",
       "      <th>p3_y</th>\n",
       "      <th>p4_x</th>\n",
       "      <th>p4_y</th>\n",
       "    </tr>\n",
       "  </thead>\n",
       "  <tbody>\n",
       "    <tr>\n",
       "      <th>0</th>\n",
       "      <td>./images/image32.jpg</td>\n",
       "      <td>112</td>\n",
       "      <td>35</td>\n",
       "      <td>583</td>\n",
       "      <td>35</td>\n",
       "      <td>600</td>\n",
       "      <td>435</td>\n",
       "      <td>105</td>\n",
       "      <td>444</td>\n",
       "    </tr>\n",
       "    <tr>\n",
       "      <th>1</th>\n",
       "      <td>./images/image1082.jpg</td>\n",
       "      <td>101</td>\n",
       "      <td>270</td>\n",
       "      <td>885</td>\n",
       "      <td>272</td>\n",
       "      <td>872</td>\n",
       "      <td>1060</td>\n",
       "      <td>105</td>\n",
       "      <td>1053</td>\n",
       "    </tr>\n",
       "    <tr>\n",
       "      <th>2</th>\n",
       "      <td>./images/image125.jpg</td>\n",
       "      <td>13</td>\n",
       "      <td>11</td>\n",
       "      <td>409</td>\n",
       "      <td>0</td>\n",
       "      <td>423</td>\n",
       "      <td>415</td>\n",
       "      <td>10</td>\n",
       "      <td>427</td>\n",
       "    </tr>\n",
       "    <tr>\n",
       "      <th>3</th>\n",
       "      <td>./images/image50.jpg</td>\n",
       "      <td>41</td>\n",
       "      <td>10</td>\n",
       "      <td>552</td>\n",
       "      <td>4</td>\n",
       "      <td>568</td>\n",
       "      <td>443</td>\n",
       "      <td>30</td>\n",
       "      <td>446</td>\n",
       "    </tr>\n",
       "    <tr>\n",
       "      <th>4</th>\n",
       "      <td>./images/image188.jpg</td>\n",
       "      <td>14</td>\n",
       "      <td>10</td>\n",
       "      <td>534</td>\n",
       "      <td>9</td>\n",
       "      <td>538</td>\n",
       "      <td>447</td>\n",
       "      <td>20</td>\n",
       "      <td>457</td>\n",
       "    </tr>\n",
       "  </tbody>\n",
       "</table>\n",
       "</div>"
      ],
      "text/plain": [
       "                 filepath  p1_x  p1_y  p2_x  p2_y  p3_x  p3_y  p4_x  p4_y\n",
       "0    ./images/image32.jpg   112    35   583    35   600   435   105   444\n",
       "1  ./images/image1082.jpg   101   270   885   272   872  1060   105  1053\n",
       "2   ./images/image125.jpg    13    11   409     0   423   415    10   427\n",
       "3    ./images/image50.jpg    41    10   552     4   568   443    30   446\n",
       "4   ./images/image188.jpg    14    10   534     9   538   447    20   457"
      ]
     },
     "execution_count": 37,
     "metadata": {},
     "output_type": "execute_result"
    }
   ],
   "source": [
    "annotation_path = os.path.join(sudoku_dataset_dir, 'outlines_sorted.csv')\n",
    "annotation_df = pd.read_csv(annotation_path)\n",
    "annotation_df.head()"
   ]
  },
  {
   "cell_type": "code",
   "execution_count": 38,
   "id": "076ab8d3-20bb-494c-a55a-57b1c4a9287f",
   "metadata": {},
   "outputs": [],
   "source": [
    "orientation_dict = {\n",
    "    \"image1083\": 1,\n",
    "    \"image1024\": 2,\n",
    "    \"image1031\": 2,\n",
    "    \"image1036\": 2,\n",
    "    \"image1037\": 2,\n",
    "    \"image1039\": 2,\n",
    "    \"image1040\": 2,\n",
    "}"
   ]
  },
  {
   "cell_type": "code",
   "execution_count": 40,
   "id": "4e629139-422b-476c-a778-be2c976beb28",
   "metadata": {},
   "outputs": [],
   "source": [
    "def create_ocr_dataset(): \n",
    "        \n",
    "    for ann_idx, row in annotation_df.iterrows():\n",
    "        file_path = row['filepath']\n",
    "        coord_dict = row[row.keys()[1:]].to_dict()\n",
    "        base_name = os.path.basename(file_path)\n",
    "        image_path = os.path.join(image_dir, base_name)\n",
    "        file_name = os.path.splitext(base_name)[0]\n",
    "    \n",
    "        orientation = orientation_dict.get(file_name)\n",
    "            \n",
    "        data_file_path = os.path.join(image_dir, f'{file_name}.dat')\n",
    "        image = cv2.imread(image_path)\n",
    "    \n",
    "        data = pd.read_csv(data_file_path, delimiter='\\t', skiprows=2, names=['data'])\n",
    "        \n",
    "        x_min = min(coord_dict['p1_x'], coord_dict['p2_x'], coord_dict['p3_x'], coord_dict['p4_x'])\n",
    "        x_max = max(coord_dict['p1_x'], coord_dict['p2_x'], coord_dict['p3_x'], coord_dict['p4_x'])\n",
    "        y_min = min(coord_dict['p1_y'], coord_dict['p2_y'], coord_dict['p3_y'], coord_dict['p4_y'])\n",
    "        y_max = max(coord_dict['p1_y'], coord_dict['p2_y'], coord_dict['p3_y'], coord_dict['p4_y'])\n",
    "        \n",
    "        image = image[y_min: y_max, x_min: x_max]\n",
    "    \n",
    "        if orientation is not None:\n",
    "            image = cv2.rotate(image, orientation)\n",
    "        \n",
    "        H, W, _ = image.shape\n",
    "        \n",
    "        h = int(H/9)\n",
    "        w = int(W/9)\n",
    "        \n",
    "        for idx in range(9):\n",
    "            file_name = f\"{data['data'].iloc[idx].replace(' ', '')}_{ann_idx}.jpg\"\n",
    "            file_path = os.path.join(sudoku_ocr_dataset_dir, file_name)\n",
    "            row_image = image[idx*h: (idx+1)*h, :]\n",
    "            cv2.imwrite(file_path, row_image)\n",
    "        "
   ]
  },
  {
   "cell_type": "code",
   "execution_count": 11,
   "id": "4806099c-7640-49d0-b9e2-3687d7a6f64b",
   "metadata": {},
   "outputs": [],
   "source": [
    "def get_width_height_stat():\n",
    "    width_list, height_list = [], []\n",
    "    \n",
    "    for ann_idx, row in annotation_df.iterrows():\n",
    "        coord_dict = row[row.keys()[1:]].to_dict()\n",
    "        \n",
    "        x_min = min(coord_dict['p1_x'], coord_dict['p2_x'], coord_dict['p3_x'], coord_dict['p4_x'])\n",
    "        x_max = max(coord_dict['p1_x'], coord_dict['p2_x'], coord_dict['p3_x'], coord_dict['p4_x'])\n",
    "        y_min = min(coord_dict['p1_y'], coord_dict['p2_y'], coord_dict['p3_y'], coord_dict['p4_y'])\n",
    "        y_max = max(coord_dict['p1_y'], coord_dict['p2_y'], coord_dict['p3_y'], coord_dict['p4_y'])\n",
    "    \n",
    "        width = x_max - x_min\n",
    "        height = y_max - y_min\n",
    "        \n",
    "        width_list.append(width)\n",
    "        height_list.append(height)\n",
    "    \n",
    "    annotation_df['width'] = width_list\n",
    "    annotation_df['height'] = height_list\n",
    "    \n",
    "    print('average weight:', annotation_df['width'].mean())\n",
    "    print('average height:', annotation_df['height'].mean())"
   ]
  },
  {
   "cell_type": "code",
   "execution_count": null,
   "id": "49983763-28f9-4c90-8711-89b1227760bc",
   "metadata": {},
   "outputs": [],
   "source": []
  },
  {
   "cell_type": "code",
   "execution_count": 64,
   "id": "4fd4554c-c18d-4270-8fbc-21f1efe4a2e9",
   "metadata": {},
   "outputs": [],
   "source": [
    "def create_annotations():\n",
    "    \n",
    "    for ann_idx, row in annotation_df.iterrows():\n",
    "    \n",
    "        file_path = row['filepath']\n",
    "        coord_dict = row[row.keys()[1:]].to_dict()\n",
    "    \n",
    "        base_name = os.path.basename(file_path)\n",
    "        source_path = os.path.join(image_dir, base_name)\n",
    "        destination_path = os.path.join(localization_image_dir, base_name)\n",
    "        file_name = os.path.splitext(base_name)[0]\n",
    "    \n",
    "        x_min = min(coord_dict['p1_x'], coord_dict['p2_x'], coord_dict['p3_x'], coord_dict['p4_x'])\n",
    "        x_max = max(coord_dict['p1_x'], coord_dict['p2_x'], coord_dict['p3_x'], coord_dict['p4_x'])\n",
    "        y_min = min(coord_dict['p1_y'], coord_dict['p2_y'], coord_dict['p3_y'], coord_dict['p4_y'])\n",
    "        y_max = max(coord_dict['p1_y'], coord_dict['p2_y'], coord_dict['p3_y'], coord_dict['p4_y'])\n",
    "    \n",
    "        image = cv2.imread(source_path)\n",
    "        H, W, _ = image.shape\n",
    "        \n",
    "        ann_class = 0\n",
    "        width = x_max - x_min\n",
    "        height = y_max - y_min\n",
    "        \n",
    "        x_center = x_min + (x_max-x_min)/2\n",
    "        y_center = y_min + (y_max-y_min)/2\n",
    "    \n",
    "        x_center = x_center/W\n",
    "        y_center = y_center/H\n",
    "        width = width/W\n",
    "        height = height/H\n",
    "        \n",
    "        label_path = os.path.join(localization_label_dir, f'{file_name}.txt')\n",
    "        fh = open(label_path, 'w')\n",
    "        fh.write(f'{ann_class} {x_center} {y_center} {width} {height}')\n",
    "        fh.close()\n",
    "    \n",
    "        shutil.copyfile(src=source_path, dst=destination_path)"
   ]
  },
  {
   "cell_type": "code",
   "execution_count": 91,
   "id": "67f56f28-f7f7-4bac-a760-3d4f1413b568",
   "metadata": {},
   "outputs": [],
   "source": [
    "def split_dataset():\n",
    "\n",
    "    image_files = os.listdir(localization_image_dir)[1:]\n",
    "    random.shuffle(image_files)\n",
    "    dataset_length = len(image_files)\n",
    "    val_index = int(dataset_length/10)\n",
    "    val_images, train_images = image_files[:val_index], image_files[val_index:]\n",
    "    \n",
    "    len(val_images), len(train_images)\n",
    "    \n",
    "    fh = open(os.path.join(localization_dataset_dir, 'train.txt'), 'w')\n",
    "    for image in train_images:\n",
    "        fh.write(f'{os.path.abspath(os.path.join(localization_image_dir, image))}\\n')\n",
    "    fh.close()\n",
    "    \n",
    "    fh = open(os.path.join(localization_dataset_dir, 'val.txt'), 'w')\n",
    "    for image in val_images:\n",
    "        fh.write(f'{os.path.abspath(os.path.join(localization_image_dir, image))}\\n')\n",
    "    fh.close()"
   ]
  },
  {
   "cell_type": "code",
   "execution_count": 92,
   "id": "d591a435-7bf6-4cdf-9fd3-a6da5dac4342",
   "metadata": {},
   "outputs": [],
   "source": [
    "# split_dataset()"
   ]
  },
  {
   "cell_type": "code",
   "execution_count": 102,
   "id": "810fba23-52af-4d29-9ab8-b924806936ee",
   "metadata": {},
   "outputs": [],
   "source": [
    "def create_yaml_file():\n",
    "    yaml_file = os.path.join(localization_dataset_dir, 'dataset.yaml')\n",
    "    data = {\n",
    "        'train': os.path.abspath(os.path.join(localization_dataset_dir, 'train.txt')),\n",
    "        'val': os.path.abspath(os.path.join(localization_dataset_dir, 'val.txt')),\n",
    "        'names': {0: 'puzzle'}\n",
    "    }\n",
    "    # print(os.path.abspath(os.path.abspath(localization_dataset_dir, 'train.txt')))\n",
    "    with open(yaml_file, 'w') as file:\n",
    "        yaml.dump(data, file)"
   ]
  },
  {
   "cell_type": "code",
   "execution_count": 103,
   "id": "17f0ad80-2d75-45dc-8f7a-49b19956904a",
   "metadata": {},
   "outputs": [],
   "source": [
    "# create_yaml_file()"
   ]
  },
  {
   "cell_type": "code",
   "execution_count": 105,
   "id": "ca3360d4-58aa-46ea-b77d-b8440f6e7dd2",
   "metadata": {},
   "outputs": [
    {
     "name": "stdout",
     "output_type": "stream",
     "text": [
      "New https://pypi.org/project/ultralytics/8.3.70 available  Update with 'pip install -U ultralytics'\n",
      "Ultralytics 8.3.23  Python-3.12.1 torch-2.2.0+cpu CPU (12th Gen Intel Core(TM) i5-12500H)\n",
      "\u001b[34m\u001b[1mengine\\trainer: \u001b[0mtask=detect, mode=train, model=yolo11n.pt, data=C:\\Users\\shbnd\\Desktop\\Work\\sudoku-solver\\data\\processed\\localization_dataset\\dataset.yaml, epochs=1, time=None, patience=100, batch=16, imgsz=640, save=True, save_period=-1, cache=False, device=None, workers=8, project=None, name=train7, exist_ok=False, pretrained=True, optimizer=auto, verbose=True, seed=0, deterministic=True, single_cls=False, rect=False, cos_lr=False, close_mosaic=10, resume=False, amp=True, fraction=1.0, profile=False, freeze=None, multi_scale=False, overlap_mask=True, mask_ratio=4, dropout=0.0, val=True, split=val, save_json=False, save_hybrid=False, conf=None, iou=0.7, max_det=300, half=False, dnn=False, plots=True, source=None, vid_stride=1, stream_buffer=False, visualize=False, augment=False, agnostic_nms=False, classes=None, retina_masks=False, embed=None, show=False, save_frames=False, save_txt=False, save_conf=False, save_crop=False, show_labels=True, show_conf=True, show_boxes=True, line_width=None, format=torchscript, keras=False, optimize=False, int8=False, dynamic=False, simplify=True, opset=None, workspace=4, nms=False, lr0=0.01, lrf=0.01, momentum=0.937, weight_decay=0.0005, warmup_epochs=3.0, warmup_momentum=0.8, warmup_bias_lr=0.1, box=7.5, cls=0.5, dfl=1.5, pose=12.0, kobj=1.0, label_smoothing=0.0, nbs=64, hsv_h=0.015, hsv_s=0.7, hsv_v=0.4, degrees=0.0, translate=0.1, scale=0.5, shear=0.0, perspective=0.0, flipud=0.0, fliplr=0.5, bgr=0.0, mosaic=1.0, mixup=0.0, copy_paste=0.0, copy_paste_mode=flip, auto_augment=randaugment, erasing=0.4, crop_fraction=1.0, cfg=None, tracker=botsort.yaml, save_dir=runs\\detect\\train7\n",
      "Overriding model.yaml nc=80 with nc=1\n",
      "\n",
      "                   from  n    params  module                                       arguments                     \n",
      "  0                  -1  1       464  ultralytics.nn.modules.conv.Conv             [3, 16, 3, 2]                 \n",
      "  1                  -1  1      4672  ultralytics.nn.modules.conv.Conv             [16, 32, 3, 2]                \n",
      "  2                  -1  1      6640  ultralytics.nn.modules.block.C3k2            [32, 64, 1, False, 0.25]      \n",
      "  3                  -1  1     36992  ultralytics.nn.modules.conv.Conv             [64, 64, 3, 2]                \n",
      "  4                  -1  1     26080  ultralytics.nn.modules.block.C3k2            [64, 128, 1, False, 0.25]     \n",
      "  5                  -1  1    147712  ultralytics.nn.modules.conv.Conv             [128, 128, 3, 2]              \n",
      "  6                  -1  1     87040  ultralytics.nn.modules.block.C3k2            [128, 128, 1, True]           \n",
      "  7                  -1  1    295424  ultralytics.nn.modules.conv.Conv             [128, 256, 3, 2]              \n",
      "  8                  -1  1    346112  ultralytics.nn.modules.block.C3k2            [256, 256, 1, True]           \n",
      "  9                  -1  1    164608  ultralytics.nn.modules.block.SPPF            [256, 256, 5]                 \n",
      " 10                  -1  1    249728  ultralytics.nn.modules.block.C2PSA           [256, 256, 1]                 \n",
      " 11                  -1  1         0  torch.nn.modules.upsampling.Upsample         [None, 2, 'nearest']          \n",
      " 12             [-1, 6]  1         0  ultralytics.nn.modules.conv.Concat           [1]                           \n",
      " 13                  -1  1    111296  ultralytics.nn.modules.block.C3k2            [384, 128, 1, False]          \n",
      " 14                  -1  1         0  torch.nn.modules.upsampling.Upsample         [None, 2, 'nearest']          \n",
      " 15             [-1, 4]  1         0  ultralytics.nn.modules.conv.Concat           [1]                           \n",
      " 16                  -1  1     32096  ultralytics.nn.modules.block.C3k2            [256, 64, 1, False]           \n",
      " 17                  -1  1     36992  ultralytics.nn.modules.conv.Conv             [64, 64, 3, 2]                \n",
      " 18            [-1, 13]  1         0  ultralytics.nn.modules.conv.Concat           [1]                           \n",
      " 19                  -1  1     86720  ultralytics.nn.modules.block.C3k2            [192, 128, 1, False]          \n",
      " 20                  -1  1    147712  ultralytics.nn.modules.conv.Conv             [128, 128, 3, 2]              \n",
      " 21            [-1, 10]  1         0  ultralytics.nn.modules.conv.Concat           [1]                           \n",
      " 22                  -1  1    378880  ultralytics.nn.modules.block.C3k2            [384, 256, 1, True]           \n",
      " 23        [16, 19, 22]  1    430867  ultralytics.nn.modules.head.Detect           [1, [64, 128, 256]]           \n",
      "YOLO11n summary: 319 layers, 2,590,035 parameters, 2,590,019 gradients, 6.4 GFLOPs\n",
      "\n",
      "Transferred 448/499 items from pretrained weights\n",
      "Freezing layer 'model.23.dfl.conv.weight'\n"
     ]
    },
    {
     "name": "stderr",
     "output_type": "stream",
     "text": [
      "\u001b[34m\u001b[1mtrain: \u001b[0mScanning C:\\Users\\shbnd\\Desktop\\Work\\sudoku-solver\\data\\processed\\localization_dataset\\labels... 182 images, 0 backgrounds, 0 corrupt: 100%|████████\u001b[0m"
     ]
    },
    {
     "name": "stdout",
     "output_type": "stream",
     "text": [
      "\u001b[34m\u001b[1mtrain: \u001b[0mNew cache created: C:\\Users\\shbnd\\Desktop\\Work\\sudoku-solver\\data\\processed\\localization_dataset\\labels.cache\n"
     ]
    },
    {
     "name": "stderr",
     "output_type": "stream",
     "text": [
      "\n",
      "\u001b[34m\u001b[1mval: \u001b[0mScanning C:\\Users\\shbnd\\Desktop\\Work\\sudoku-solver\\data\\processed\\localization_dataset\\labels... 20 images, 0 backgrounds, 0 corrupt: 100%|██████████|\u001b[0m"
     ]
    },
    {
     "name": "stdout",
     "output_type": "stream",
     "text": [
      "\u001b[34m\u001b[1mval: \u001b[0mNew cache created: C:\\Users\\shbnd\\Desktop\\Work\\sudoku-solver\\data\\processed\\localization_dataset\\labels.cache\n"
     ]
    },
    {
     "name": "stderr",
     "output_type": "stream",
     "text": [
      "\n"
     ]
    },
    {
     "name": "stdout",
     "output_type": "stream",
     "text": [
      "Plotting labels to runs\\detect\\train7\\labels.jpg... \n",
      "\u001b[34m\u001b[1moptimizer:\u001b[0m 'optimizer=auto' found, ignoring 'lr0=0.01' and 'momentum=0.937' and determining best 'optimizer', 'lr0' and 'momentum' automatically... \n",
      "\u001b[34m\u001b[1moptimizer:\u001b[0m AdamW(lr=0.002, momentum=0.9) with parameter groups 81 weight(decay=0.0), 88 weight(decay=0.0005), 87 bias(decay=0.0)\n",
      "Image sizes 640 train, 640 val\n",
      "Using 0 dataloader workers\n",
      "Logging results to \u001b[1mruns\\detect\\train7\u001b[0m\n",
      "Starting training for 1 epochs...\n",
      "\n",
      "      Epoch    GPU_mem   box_loss   cls_loss   dfl_loss  Instances       Size\n"
     ]
    },
    {
     "name": "stderr",
     "output_type": "stream",
     "text": [
      "        1/1         0G     0.6736      2.518      1.237         40        640:  58%|█████▊    | 7/12 [01:00<00:43,  8.60s/it]\n"
     ]
    },
    {
     "ename": "KeyboardInterrupt",
     "evalue": "",
     "output_type": "error",
     "traceback": [
      "\u001b[1;31m---------------------------------------------------------------------------\u001b[0m",
      "\u001b[1;31mKeyboardInterrupt\u001b[0m                         Traceback (most recent call last)",
      "Cell \u001b[1;32mIn[105], line 5\u001b[0m\n\u001b[0;32m      1\u001b[0m \u001b[38;5;28;01mfrom\u001b[39;00m \u001b[38;5;21;01multralytics\u001b[39;00m \u001b[38;5;28;01mimport\u001b[39;00m YOLO\n\u001b[0;32m      3\u001b[0m model \u001b[38;5;241m=\u001b[39m YOLO(\u001b[38;5;124m\"\u001b[39m\u001b[38;5;124myolo11n.pt\u001b[39m\u001b[38;5;124m\"\u001b[39m)\n\u001b[1;32m----> 5\u001b[0m results \u001b[38;5;241m=\u001b[39m \u001b[43mmodel\u001b[49m\u001b[38;5;241;43m.\u001b[39;49m\u001b[43mtrain\u001b[49m\u001b[43m(\u001b[49m\n\u001b[0;32m      6\u001b[0m \u001b[43m    \u001b[49m\u001b[43mdata\u001b[49m\u001b[38;5;241;43m=\u001b[39;49m\u001b[43mos\u001b[49m\u001b[38;5;241;43m.\u001b[39;49m\u001b[43mpath\u001b[49m\u001b[38;5;241;43m.\u001b[39;49m\u001b[43mabspath\u001b[49m\u001b[43m(\u001b[49m\u001b[43mos\u001b[49m\u001b[38;5;241;43m.\u001b[39;49m\u001b[43mpath\u001b[49m\u001b[38;5;241;43m.\u001b[39;49m\u001b[43mjoin\u001b[49m\u001b[43m(\u001b[49m\u001b[43mlocalization_dataset_dir\u001b[49m\u001b[43m,\u001b[49m\u001b[43m \u001b[49m\u001b[38;5;124;43m'\u001b[39;49m\u001b[38;5;124;43mdataset.yaml\u001b[39;49m\u001b[38;5;124;43m'\u001b[39;49m\u001b[43m)\u001b[49m\u001b[43m)\u001b[49m\u001b[43m,\u001b[49m\u001b[43m \u001b[49m\n\u001b[0;32m      7\u001b[0m \u001b[43m    \u001b[49m\u001b[43mepochs\u001b[49m\u001b[38;5;241;43m=\u001b[39;49m\u001b[38;5;241;43m1\u001b[39;49m\u001b[43m,\u001b[49m\u001b[43m \u001b[49m\u001b[43mimgsz\u001b[49m\u001b[38;5;241;43m=\u001b[39;49m\u001b[38;5;241;43m640\u001b[39;49m\n\u001b[0;32m      8\u001b[0m \u001b[43m)\u001b[49m\n",
      "File \u001b[1;32m~\\anaconda3\\envs\\dev\\Lib\\site-packages\\ultralytics\\engine\\model.py:802\u001b[0m, in \u001b[0;36mModel.train\u001b[1;34m(self, trainer, **kwargs)\u001b[0m\n\u001b[0;32m    799\u001b[0m     \u001b[38;5;28mself\u001b[39m\u001b[38;5;241m.\u001b[39mmodel \u001b[38;5;241m=\u001b[39m \u001b[38;5;28mself\u001b[39m\u001b[38;5;241m.\u001b[39mtrainer\u001b[38;5;241m.\u001b[39mmodel\n\u001b[0;32m    801\u001b[0m \u001b[38;5;28mself\u001b[39m\u001b[38;5;241m.\u001b[39mtrainer\u001b[38;5;241m.\u001b[39mhub_session \u001b[38;5;241m=\u001b[39m \u001b[38;5;28mself\u001b[39m\u001b[38;5;241m.\u001b[39msession  \u001b[38;5;66;03m# attach optional HUB session\u001b[39;00m\n\u001b[1;32m--> 802\u001b[0m \u001b[38;5;28;43mself\u001b[39;49m\u001b[38;5;241;43m.\u001b[39;49m\u001b[43mtrainer\u001b[49m\u001b[38;5;241;43m.\u001b[39;49m\u001b[43mtrain\u001b[49m\u001b[43m(\u001b[49m\u001b[43m)\u001b[49m\n\u001b[0;32m    803\u001b[0m \u001b[38;5;66;03m# Update model and cfg after training\u001b[39;00m\n\u001b[0;32m    804\u001b[0m \u001b[38;5;28;01mif\u001b[39;00m RANK \u001b[38;5;129;01min\u001b[39;00m {\u001b[38;5;241m-\u001b[39m\u001b[38;5;241m1\u001b[39m, \u001b[38;5;241m0\u001b[39m}:\n",
      "File \u001b[1;32m~\\anaconda3\\envs\\dev\\Lib\\site-packages\\ultralytics\\engine\\trainer.py:207\u001b[0m, in \u001b[0;36mBaseTrainer.train\u001b[1;34m(self)\u001b[0m\n\u001b[0;32m    204\u001b[0m         ddp_cleanup(\u001b[38;5;28mself\u001b[39m, \u001b[38;5;28mstr\u001b[39m(file))\n\u001b[0;32m    206\u001b[0m \u001b[38;5;28;01melse\u001b[39;00m:\n\u001b[1;32m--> 207\u001b[0m     \u001b[38;5;28;43mself\u001b[39;49m\u001b[38;5;241;43m.\u001b[39;49m\u001b[43m_do_train\u001b[49m\u001b[43m(\u001b[49m\u001b[43mworld_size\u001b[49m\u001b[43m)\u001b[49m\n",
      "File \u001b[1;32m~\\anaconda3\\envs\\dev\\Lib\\site-packages\\ultralytics\\engine\\trainer.py:393\u001b[0m, in \u001b[0;36mBaseTrainer._do_train\u001b[1;34m(self, world_size)\u001b[0m\n\u001b[0;32m    388\u001b[0m     \u001b[38;5;28mself\u001b[39m\u001b[38;5;241m.\u001b[39mtloss \u001b[38;5;241m=\u001b[39m (\n\u001b[0;32m    389\u001b[0m         (\u001b[38;5;28mself\u001b[39m\u001b[38;5;241m.\u001b[39mtloss \u001b[38;5;241m*\u001b[39m i \u001b[38;5;241m+\u001b[39m \u001b[38;5;28mself\u001b[39m\u001b[38;5;241m.\u001b[39mloss_items) \u001b[38;5;241m/\u001b[39m (i \u001b[38;5;241m+\u001b[39m \u001b[38;5;241m1\u001b[39m) \u001b[38;5;28;01mif\u001b[39;00m \u001b[38;5;28mself\u001b[39m\u001b[38;5;241m.\u001b[39mtloss \u001b[38;5;129;01mis\u001b[39;00m \u001b[38;5;129;01mnot\u001b[39;00m \u001b[38;5;28;01mNone\u001b[39;00m \u001b[38;5;28;01melse\u001b[39;00m \u001b[38;5;28mself\u001b[39m\u001b[38;5;241m.\u001b[39mloss_items\n\u001b[0;32m    390\u001b[0m     )\n\u001b[0;32m    392\u001b[0m \u001b[38;5;66;03m# Backward\u001b[39;00m\n\u001b[1;32m--> 393\u001b[0m \u001b[38;5;28;43mself\u001b[39;49m\u001b[38;5;241;43m.\u001b[39;49m\u001b[43mscaler\u001b[49m\u001b[38;5;241;43m.\u001b[39;49m\u001b[43mscale\u001b[49m\u001b[43m(\u001b[49m\u001b[38;5;28;43mself\u001b[39;49m\u001b[38;5;241;43m.\u001b[39;49m\u001b[43mloss\u001b[49m\u001b[43m)\u001b[49m\u001b[38;5;241;43m.\u001b[39;49m\u001b[43mbackward\u001b[49m\u001b[43m(\u001b[49m\u001b[43m)\u001b[49m\n\u001b[0;32m    395\u001b[0m \u001b[38;5;66;03m# Optimize - https://pytorch.org/docs/master/notes/amp_examples.html\u001b[39;00m\n\u001b[0;32m    396\u001b[0m \u001b[38;5;28;01mif\u001b[39;00m ni \u001b[38;5;241m-\u001b[39m last_opt_step \u001b[38;5;241m>\u001b[39m\u001b[38;5;241m=\u001b[39m \u001b[38;5;28mself\u001b[39m\u001b[38;5;241m.\u001b[39maccumulate:\n",
      "File \u001b[1;32m~\\anaconda3\\envs\\dev\\Lib\\site-packages\\torch\\_tensor.py:522\u001b[0m, in \u001b[0;36mTensor.backward\u001b[1;34m(self, gradient, retain_graph, create_graph, inputs)\u001b[0m\n\u001b[0;32m    512\u001b[0m \u001b[38;5;28;01mif\u001b[39;00m has_torch_function_unary(\u001b[38;5;28mself\u001b[39m):\n\u001b[0;32m    513\u001b[0m     \u001b[38;5;28;01mreturn\u001b[39;00m handle_torch_function(\n\u001b[0;32m    514\u001b[0m         Tensor\u001b[38;5;241m.\u001b[39mbackward,\n\u001b[0;32m    515\u001b[0m         (\u001b[38;5;28mself\u001b[39m,),\n\u001b[1;32m   (...)\u001b[0m\n\u001b[0;32m    520\u001b[0m         inputs\u001b[38;5;241m=\u001b[39minputs,\n\u001b[0;32m    521\u001b[0m     )\n\u001b[1;32m--> 522\u001b[0m \u001b[43mtorch\u001b[49m\u001b[38;5;241;43m.\u001b[39;49m\u001b[43mautograd\u001b[49m\u001b[38;5;241;43m.\u001b[39;49m\u001b[43mbackward\u001b[49m\u001b[43m(\u001b[49m\n\u001b[0;32m    523\u001b[0m \u001b[43m    \u001b[49m\u001b[38;5;28;43mself\u001b[39;49m\u001b[43m,\u001b[49m\u001b[43m \u001b[49m\u001b[43mgradient\u001b[49m\u001b[43m,\u001b[49m\u001b[43m \u001b[49m\u001b[43mretain_graph\u001b[49m\u001b[43m,\u001b[49m\u001b[43m \u001b[49m\u001b[43mcreate_graph\u001b[49m\u001b[43m,\u001b[49m\u001b[43m \u001b[49m\u001b[43minputs\u001b[49m\u001b[38;5;241;43m=\u001b[39;49m\u001b[43minputs\u001b[49m\n\u001b[0;32m    524\u001b[0m \u001b[43m\u001b[49m\u001b[43m)\u001b[49m\n",
      "File \u001b[1;32m~\\anaconda3\\envs\\dev\\Lib\\site-packages\\torch\\autograd\\__init__.py:266\u001b[0m, in \u001b[0;36mbackward\u001b[1;34m(tensors, grad_tensors, retain_graph, create_graph, grad_variables, inputs)\u001b[0m\n\u001b[0;32m    261\u001b[0m     retain_graph \u001b[38;5;241m=\u001b[39m create_graph\n\u001b[0;32m    263\u001b[0m \u001b[38;5;66;03m# The reason we repeat the same comment below is that\u001b[39;00m\n\u001b[0;32m    264\u001b[0m \u001b[38;5;66;03m# some Python versions print out the first line of a multi-line function\u001b[39;00m\n\u001b[0;32m    265\u001b[0m \u001b[38;5;66;03m# calls in the traceback and some print out the last line\u001b[39;00m\n\u001b[1;32m--> 266\u001b[0m \u001b[43mVariable\u001b[49m\u001b[38;5;241;43m.\u001b[39;49m\u001b[43m_execution_engine\u001b[49m\u001b[38;5;241;43m.\u001b[39;49m\u001b[43mrun_backward\u001b[49m\u001b[43m(\u001b[49m\u001b[43m  \u001b[49m\u001b[38;5;66;43;03m# Calls into the C++ engine to run the backward pass\u001b[39;49;00m\n\u001b[0;32m    267\u001b[0m \u001b[43m    \u001b[49m\u001b[43mtensors\u001b[49m\u001b[43m,\u001b[49m\n\u001b[0;32m    268\u001b[0m \u001b[43m    \u001b[49m\u001b[43mgrad_tensors_\u001b[49m\u001b[43m,\u001b[49m\n\u001b[0;32m    269\u001b[0m \u001b[43m    \u001b[49m\u001b[43mretain_graph\u001b[49m\u001b[43m,\u001b[49m\n\u001b[0;32m    270\u001b[0m \u001b[43m    \u001b[49m\u001b[43mcreate_graph\u001b[49m\u001b[43m,\u001b[49m\n\u001b[0;32m    271\u001b[0m \u001b[43m    \u001b[49m\u001b[43minputs\u001b[49m\u001b[43m,\u001b[49m\n\u001b[0;32m    272\u001b[0m \u001b[43m    \u001b[49m\u001b[43mallow_unreachable\u001b[49m\u001b[38;5;241;43m=\u001b[39;49m\u001b[38;5;28;43;01mTrue\u001b[39;49;00m\u001b[43m,\u001b[49m\n\u001b[0;32m    273\u001b[0m \u001b[43m    \u001b[49m\u001b[43maccumulate_grad\u001b[49m\u001b[38;5;241;43m=\u001b[39;49m\u001b[38;5;28;43;01mTrue\u001b[39;49;00m\u001b[43m,\u001b[49m\n\u001b[0;32m    274\u001b[0m \u001b[43m\u001b[49m\u001b[43m)\u001b[49m\n",
      "\u001b[1;31mKeyboardInterrupt\u001b[0m: "
     ]
    }
   ],
   "source": [
    "from ultralytics import YOLO\n",
    "\n",
    "model = YOLO(\"yolo11n.pt\")\n",
    "\n",
    "results = model.train(\n",
    "    data=os.path.abspath(os.path.join(localization_dataset_dir, 'dataset.yaml')), \n",
    "    epochs=1, imgsz=640\n",
    ")"
   ]
  },
  {
   "cell_type": "code",
   "execution_count": 86,
   "id": "599ee71e-7907-47c9-a744-a6a0e9e8d106",
   "metadata": {},
   "outputs": [
    {
     "data": {
      "text/plain": [
       "'C:\\\\Users\\\\shbnd\\\\Desktop\\\\Work\\\\sudoku-solver\\\\data\\\\processed\\\\localization_dataset\\\\dataset.yaml'"
      ]
     },
     "execution_count": 86,
     "metadata": {},
     "output_type": "execute_result"
    }
   ],
   "source": []
  },
  {
   "cell_type": "code",
   "execution_count": null,
   "id": "e2b3761a-fee9-4ce8-bd92-69f223042b52",
   "metadata": {},
   "outputs": [],
   "source": []
  }
 ],
 "metadata": {
  "kernelspec": {
   "display_name": "Python 3 (ipykernel)",
   "language": "python",
   "name": "python3"
  },
  "language_info": {
   "codemirror_mode": {
    "name": "ipython",
    "version": 3
   },
   "file_extension": ".py",
   "mimetype": "text/x-python",
   "name": "python",
   "nbconvert_exporter": "python",
   "pygments_lexer": "ipython3",
   "version": "3.12.1"
  }
 },
 "nbformat": 4,
 "nbformat_minor": 5
}
