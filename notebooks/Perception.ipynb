{
 "cells": [
  {
   "cell_type": "code",
   "execution_count": 29,
   "id": "bb724600-7998-4821-aadf-d9a0428bc606",
   "metadata": {},
   "outputs": [],
   "source": [
    "# import libraries\n",
    "import os \n",
    "import pandas as pd\n",
    "import cv2\n",
    "import numpy as np\n",
    "import matplotlib.pyplot as plt"
   ]
  },
  {
   "cell_type": "code",
   "execution_count": 30,
   "id": "0b210634-3a14-42b5-8525-cc6fb7e19b58",
   "metadata": {},
   "outputs": [],
   "source": [
    "data_dir = '../data'"
   ]
  },
  {
   "cell_type": "code",
   "execution_count": 31,
   "id": "0c6b22b4-0b7c-42b0-bfac-9409e5515972",
   "metadata": {},
   "outputs": [],
   "source": [
    "raw_data_dir = os.path.join(data_dir, 'raw')\n",
    "processed_data_dir = os.path.join(data_dir, 'processed')"
   ]
  },
  {
   "cell_type": "code",
   "execution_count": 32,
   "id": "0b9c3194-617f-4c14-855b-236458557b29",
   "metadata": {},
   "outputs": [],
   "source": [
    "os.makedirs(raw_data_dir, exist_ok=True)\n",
    "os.makedirs(processed_data_dir, exist_ok=True)"
   ]
  },
  {
   "cell_type": "code",
   "execution_count": 33,
   "id": "62da38f0-aa27-4ebc-b2e2-378bd8af45be",
   "metadata": {},
   "outputs": [],
   "source": [
    "sudoku_dataset_dir = os.path.join(raw_data_dir, 'sudoku_dataset')\n",
    "# ! git clone https://github.com/wichtounet/sudoku_dataset.git ../data/raw/sudoku_dataset"
   ]
  },
  {
   "cell_type": "code",
   "execution_count": 34,
   "id": "74c187b7-e05d-4401-bdb8-367df8174418",
   "metadata": {},
   "outputs": [],
   "source": [
    "sudoku_ocr_dataset_dir = os.path.join(processed_data_dir, 'sudoku_ocr_dataset')\n",
    "os.makedirs(sudoku_ocr_dataset_dir, exist_ok=True)"
   ]
  },
  {
   "cell_type": "code",
   "execution_count": 35,
   "id": "8f53d5af-4d70-4c89-8c42-693fe705e813",
   "metadata": {},
   "outputs": [
    {
     "data": {
      "text/plain": [
       "['.git',\n",
       " '.gitignore',\n",
       " 'baptiste.sh',\n",
       " 'datasets',\n",
       " 'images',\n",
       " 'jean.sh',\n",
       " 'mixed',\n",
       " 'mixed_incomplete',\n",
       " 'mixed_natural',\n",
       " 'original',\n",
       " 'outlines_sorted.csv',\n",
       " 'README.rst',\n",
       " 'tools',\n",
       " 'wip']"
      ]
     },
     "execution_count": 35,
     "metadata": {},
     "output_type": "execute_result"
    }
   ],
   "source": [
    "os.listdir(sudoku_dataset_dir)"
   ]
  },
  {
   "cell_type": "code",
   "execution_count": 36,
   "id": "51b0e7db-aaa8-41f6-b76e-110f0adbd91e",
   "metadata": {},
   "outputs": [],
   "source": [
    "image_dir = os.path.join(sudoku_dataset_dir, 'images')"
   ]
  },
  {
   "cell_type": "code",
   "execution_count": 37,
   "id": "678074f5-ea53-4e60-b0a8-d54747804484",
   "metadata": {},
   "outputs": [
    {
     "data": {
      "text/html": [
       "<div>\n",
       "<style scoped>\n",
       "    .dataframe tbody tr th:only-of-type {\n",
       "        vertical-align: middle;\n",
       "    }\n",
       "\n",
       "    .dataframe tbody tr th {\n",
       "        vertical-align: top;\n",
       "    }\n",
       "\n",
       "    .dataframe thead th {\n",
       "        text-align: right;\n",
       "    }\n",
       "</style>\n",
       "<table border=\"1\" class=\"dataframe\">\n",
       "  <thead>\n",
       "    <tr style=\"text-align: right;\">\n",
       "      <th></th>\n",
       "      <th>filepath</th>\n",
       "      <th>p1_x</th>\n",
       "      <th>p1_y</th>\n",
       "      <th>p2_x</th>\n",
       "      <th>p2_y</th>\n",
       "      <th>p3_x</th>\n",
       "      <th>p3_y</th>\n",
       "      <th>p4_x</th>\n",
       "      <th>p4_y</th>\n",
       "    </tr>\n",
       "  </thead>\n",
       "  <tbody>\n",
       "    <tr>\n",
       "      <th>0</th>\n",
       "      <td>./images/image32.jpg</td>\n",
       "      <td>112</td>\n",
       "      <td>35</td>\n",
       "      <td>583</td>\n",
       "      <td>35</td>\n",
       "      <td>600</td>\n",
       "      <td>435</td>\n",
       "      <td>105</td>\n",
       "      <td>444</td>\n",
       "    </tr>\n",
       "    <tr>\n",
       "      <th>1</th>\n",
       "      <td>./images/image1082.jpg</td>\n",
       "      <td>101</td>\n",
       "      <td>270</td>\n",
       "      <td>885</td>\n",
       "      <td>272</td>\n",
       "      <td>872</td>\n",
       "      <td>1060</td>\n",
       "      <td>105</td>\n",
       "      <td>1053</td>\n",
       "    </tr>\n",
       "    <tr>\n",
       "      <th>2</th>\n",
       "      <td>./images/image125.jpg</td>\n",
       "      <td>13</td>\n",
       "      <td>11</td>\n",
       "      <td>409</td>\n",
       "      <td>0</td>\n",
       "      <td>423</td>\n",
       "      <td>415</td>\n",
       "      <td>10</td>\n",
       "      <td>427</td>\n",
       "    </tr>\n",
       "    <tr>\n",
       "      <th>3</th>\n",
       "      <td>./images/image50.jpg</td>\n",
       "      <td>41</td>\n",
       "      <td>10</td>\n",
       "      <td>552</td>\n",
       "      <td>4</td>\n",
       "      <td>568</td>\n",
       "      <td>443</td>\n",
       "      <td>30</td>\n",
       "      <td>446</td>\n",
       "    </tr>\n",
       "    <tr>\n",
       "      <th>4</th>\n",
       "      <td>./images/image188.jpg</td>\n",
       "      <td>14</td>\n",
       "      <td>10</td>\n",
       "      <td>534</td>\n",
       "      <td>9</td>\n",
       "      <td>538</td>\n",
       "      <td>447</td>\n",
       "      <td>20</td>\n",
       "      <td>457</td>\n",
       "    </tr>\n",
       "  </tbody>\n",
       "</table>\n",
       "</div>"
      ],
      "text/plain": [
       "                 filepath  p1_x  p1_y  p2_x  p2_y  p3_x  p3_y  p4_x  p4_y\n",
       "0    ./images/image32.jpg   112    35   583    35   600   435   105   444\n",
       "1  ./images/image1082.jpg   101   270   885   272   872  1060   105  1053\n",
       "2   ./images/image125.jpg    13    11   409     0   423   415    10   427\n",
       "3    ./images/image50.jpg    41    10   552     4   568   443    30   446\n",
       "4   ./images/image188.jpg    14    10   534     9   538   447    20   457"
      ]
     },
     "execution_count": 37,
     "metadata": {},
     "output_type": "execute_result"
    }
   ],
   "source": [
    "annotation_path = os.path.join(sudoku_dataset_dir, 'outlines_sorted.csv')\n",
    "annotation_df = pd.read_csv(annotation_path)\n",
    "annotation_df.head()"
   ]
  },
  {
   "cell_type": "code",
   "execution_count": 38,
   "id": "076ab8d3-20bb-494c-a55a-57b1c4a9287f",
   "metadata": {},
   "outputs": [],
   "source": [
    "orientation_dict = {\n",
    "    \"image1083\": 1,\n",
    "    \"image1024\": 2,\n",
    "    \"image1031\": 2,\n",
    "    \"image1036\": 2,\n",
    "    \"image1037\": 2,\n",
    "    \"image1039\": 2,\n",
    "    \"image1040\": 2,\n",
    "}"
   ]
  },
  {
   "cell_type": "code",
   "execution_count": 40,
   "id": "4e629139-422b-476c-a778-be2c976beb28",
   "metadata": {},
   "outputs": [],
   "source": [
    "def create_ocr_dataset(): \n",
    "        \n",
    "    for ann_idx, row in annotation_df.iterrows():\n",
    "        file_path = row['filepath']\n",
    "        coord_dict = row[row.keys()[1:]].to_dict()\n",
    "        base_name = os.path.basename(file_path)\n",
    "        image_path = os.path.join(image_dir, base_name)\n",
    "        file_name = os.path.splitext(base_name)[0]\n",
    "    \n",
    "        orientation = orientation_dict.get(file_name)\n",
    "            \n",
    "        data_file_path = os.path.join(image_dir, f'{file_name}.dat')\n",
    "        image = cv2.imread(image_path)\n",
    "    \n",
    "        data = pd.read_csv(data_file_path, delimiter='\\t', skiprows=2, names=['data'])\n",
    "        \n",
    "        x_min = min(coord_dict['p1_x'], coord_dict['p2_x'], coord_dict['p3_x'], coord_dict['p4_x'])\n",
    "        x_max = max(coord_dict['p1_x'], coord_dict['p2_x'], coord_dict['p3_x'], coord_dict['p4_x'])\n",
    "        y_min = min(coord_dict['p1_y'], coord_dict['p2_y'], coord_dict['p3_y'], coord_dict['p4_y'])\n",
    "        y_max = max(coord_dict['p1_y'], coord_dict['p2_y'], coord_dict['p3_y'], coord_dict['p4_y'])\n",
    "        \n",
    "        image = image[y_min: y_max, x_min: x_max]\n",
    "    \n",
    "        if orientation is not None:\n",
    "            image = cv2.rotate(image, orientation)\n",
    "        \n",
    "        H, W, _ = image.shape\n",
    "        \n",
    "        h = int(H/9)\n",
    "        w = int(W/9)\n",
    "        \n",
    "        for idx in range(9):\n",
    "            file_name = f\"{data['data'].iloc[idx].replace(' ', '')}_{ann_idx}.jpg\"\n",
    "            file_path = os.path.join(sudoku_ocr_dataset_dir, file_name)\n",
    "            row_image = image[idx*h: (idx+1)*h, :]\n",
    "            cv2.imwrite(file_path, row_image)\n",
    "        "
   ]
  },
  {
   "cell_type": "code",
   "execution_count": 11,
   "id": "4806099c-7640-49d0-b9e2-3687d7a6f64b",
   "metadata": {},
   "outputs": [],
   "source": [
    "def get_width_height_stat():\n",
    "    width_list, height_list = [], []\n",
    "    \n",
    "    for ann_idx, row in annotation_df.iterrows():\n",
    "        coord_dict = row[row.keys()[1:]].to_dict()\n",
    "        \n",
    "        x_min = min(coord_dict['p1_x'], coord_dict['p2_x'], coord_dict['p3_x'], coord_dict['p4_x'])\n",
    "        x_max = max(coord_dict['p1_x'], coord_dict['p2_x'], coord_dict['p3_x'], coord_dict['p4_x'])\n",
    "        y_min = min(coord_dict['p1_y'], coord_dict['p2_y'], coord_dict['p3_y'], coord_dict['p4_y'])\n",
    "        y_max = max(coord_dict['p1_y'], coord_dict['p2_y'], coord_dict['p3_y'], coord_dict['p4_y'])\n",
    "    \n",
    "        width = x_max - x_min\n",
    "        height = y_max - y_min\n",
    "        \n",
    "        width_list.append(width)\n",
    "        height_list.append(height)\n",
    "    \n",
    "    annotation_df['width'] = width_list\n",
    "    annotation_df['height'] = height_list\n",
    "    \n",
    "    print('average weight:', annotation_df['width'].mean())\n",
    "    print('average height:', annotation_df['height'].mean())"
   ]
  },
  {
   "cell_type": "code",
   "execution_count": null,
   "id": "49983763-28f9-4c90-8711-89b1227760bc",
   "metadata": {},
   "outputs": [],
   "source": []
  },
  {
   "cell_type": "code",
   "execution_count": null,
   "id": "e7fbbbd5-f718-4328-a4f9-d5dacf077012",
   "metadata": {},
   "outputs": [],
   "source": []
  }
 ],
 "metadata": {
  "kernelspec": {
   "display_name": "Python 3 (ipykernel)",
   "language": "python",
   "name": "python3"
  },
  "language_info": {
   "codemirror_mode": {
    "name": "ipython",
    "version": 3
   },
   "file_extension": ".py",
   "mimetype": "text/x-python",
   "name": "python",
   "nbconvert_exporter": "python",
   "pygments_lexer": "ipython3",
   "version": "3.12.1"
  }
 },
 "nbformat": 4,
 "nbformat_minor": 5
}
